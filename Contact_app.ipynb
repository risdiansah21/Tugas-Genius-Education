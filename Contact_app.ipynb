{
 "cells": [
  {
   "cell_type": "code",
   "execution_count": 1,
   "id": "99e0f109",
   "metadata": {},
   "outputs": [],
   "source": [
    "def tambah_kontak():\n",
    "    print('')\n",
    "    banyakKontak = int(input('Masukan banyak kontak:'))\n",
    "    for i in range(banyakKontak):\n",
    "        print('Masukan kontak ke-', i+1)\n",
    "        namaKontak = input('Nomor\\t:')\n",
    "        nomorKontak = int(input('Nomor\\t:'))\n",
    "        kontakBaru = kontak(namaKontak, nomorKontak)\n",
    "        kontak.append(kontakBaru)\n",
    "        print('')\n",
    "    print('Kontak berhasil ditambahkan!\\n')    "
   ]
  },
  {
   "cell_type": "code",
   "execution_count": 2,
   "id": "a0a0e559",
   "metadata": {},
   "outputs": [],
   "source": [
    "def daftar_kontak():\n",
    "    print('')\n",
    "    if(len(kontak)==0):\n",
    "        print('Kontak Masih Kosong, silahkan menambahkan kontak!')\n",
    "        print('')\n",
    "    else:\n",
    "        i = 1\n",
    "        print('|N0.\\t|Nama\\t\\t|Nomor Ponsel\\t|')\n",
    "        for j in kontak:\n",
    "            print(f'|{i}.\\t|{j.nama}\\t\\t|{j.nomor}\\t|')\n",
    "            i+=1\n",
    "        print('')    "
   ]
  },
  {
   "cell_type": "code",
   "execution_count": 3,
   "id": "21cd4b3f",
   "metadata": {},
   "outputs": [],
   "source": [
    "def edit_kontak():\n",
    "    print('')\n",
    "    if(len(kontak)==0):\n",
    "        print('Kontak Masih Kosong, silahkan menambahkan kontak!')\n",
    "        print('')\n",
    "    else:\n",
    "        edit = int(input('Masukan Nomor Urut Kontak:'))\n",
    "        namaKontak = input('Nama\\t: ')\n",
    "        nomorKontak = int(input('Nomor\\t: '))\n",
    "        kontakBaru = Kontak(namaKontak, nomorKontak)\n",
    "        kontak[edit-1] = kontakBaru\n",
    "        print('')\n",
    "        print(f'kontak dengan urutan ke-{edit}, Berhasil di edit!\\n')"
   ]
  },
  {
   "cell_type": "code",
   "execution_count": 4,
   "id": "b442c73a",
   "metadata": {},
   "outputs": [],
   "source": [
    "def hapus_kontak():\n",
    "    print('')\n",
    "    if(len(kontak)==0):\n",
    "        print('Kontak Masih Kosong, silahkan menambahkan kontak!')\n",
    "        print('')\n",
    "    else:\n",
    "        hapus = int(input('Masukan Nomor Urut Kontak: '))\n",
    "        del kontak[hapus-1]\n",
    "        print('')\n",
    "        print(f'Kontak dengan urutan ke-{hapus}, Berhasil di hapus!\\n')"
   ]
  },
  {
   "cell_type": "code",
   "execution_count": 5,
   "id": "8e64ebf7",
   "metadata": {},
   "outputs": [
    {
     "ename": "SyntaxError",
     "evalue": "'literal' is an illegal expression for augmented assignment (1380757838.py, line 23)",
     "output_type": "error",
     "traceback": [
      "\u001b[0;36m  Input \u001b[0;32mIn [5]\u001b[0;36m\u001b[0m\n\u001b[0;31m    1+=1\u001b[0m\n\u001b[0m    ^\u001b[0m\n\u001b[0;31mSyntaxError\u001b[0m\u001b[0;31m:\u001b[0m 'literal' is an illegal expression for augmented assignment\n"
     ]
    }
   ],
   "source": [
    "def cari_kontak():\n",
    "    print('')\n",
    "    if(len(kontak)==0):\n",
    "        print('Kontak Masih Kosong, silahkan menambahkan kontak!')\n",
    "        print('')\n",
    "    else:\n",
    "        found_kontak = []\n",
    "        cari = input('Mencari berdasarkan apa? (nama/nomor): ')\n",
    "        if(cari.lower() == 'nama'):\n",
    "            nama = input('Masukan nama kontak: ')\n",
    "            for i in kontak:\n",
    "                if(i.nama.lower() == nama.lower()):\n",
    "                    found_kontak.append(i)\n",
    "            if(len(found_kontak) == 0):\n",
    "                print('Tidak ditemukan kontak')\n",
    "            else:\n",
    "                print('Berikut hasil kontak berdasarkan nama:')\n",
    "                print('')\n",
    "                print('|No.\\t|Nama\\t\\t|Nomor Ponsel\\t|')\n",
    "                i=1\n",
    "                for j in found_kontak:\n",
    "                    print(f'|{i}.\\t|{j.nama}\\t\\t|{j.nomor}\\t|')\n",
    "                    1+=1\n",
    "                print('')\n",
    "            elif(cari.lower() == 'nomor'):\n",
    "                nomor = input('Masukkan nomor kontak: ')\n",
    "                for i in range(0,len(kontak)):\n",
    "                    if(kontak[i].nomor == int(nomor)):\n",
    "                        found_kontak.append(kontak[i])\n",
    "                if(len(found_kontak) == 0):\n",
    "                    print('Tidak ditemukan kontak')\n",
    "                else:\n",
    "                    print('Berikut hasil kontak berdasarkan nomor:')\n",
    "                    print('')\n",
    "                    print('|No.\\t|Nama\\t\\t|Nomor Ponsel\\t|')\n",
    "                    i=1\n",
    "                    for j in found_kontak:\n",
    "                        print(f'|{i}.\\t|[j.nama]\\t\\t|{j.nomor}\\t|')\n",
    "                        i+=1\n",
    "                    print('')\n",
    "                else:\n",
    "                    print('Tidak dapat mencari diluar kategori tersebut')"
   ]
  },
  {
   "cell_type": "code",
   "execution_count": null,
   "id": "d051efc6",
   "metadata": {},
   "outputs": [],
   "source": [
    "class kontak(object):\n",
    "    def__init__(self, nama, nomor):\n",
    "        self.nama = nama\n",
    "        self.nomor = nomor\n",
    "        \n",
    "        \n",
    "kontak = []\n",
    "\n",
    "def main():\n",
    "    print('Selamat Datang!')\n",
    "    while True:\n",
    "        print('---Menu---\\n')\n",
    "        print('1. Daftar Kontak')\n",
    "        print('2. Tambah Kontak')\n",
    "        print('3. Edit Kontak')\n",
    "        print('4. Hapus Kontak')\n",
    "        print('5. Cari Kontak')\n",
    "        print('6. Keluar')\n",
    "        menu = input('\\nPilih Menu: ')\n",
    "        if menu == '1':\n",
    "            daftar_kontak()\n",
    "        elif menu == '2':\n",
    "            tambah_kontak\n",
    "        elif menu == '3':\n",
    "            edit_kontak  \n",
    "        elif menu == '4':\n",
    "            hapus_kontak    \n",
    "        elif menu == '5':\n",
    "            cari_kontak      \n",
    "        elif menu == '6':\n",
    "            print('Program selesai, sampai jumpa!')\n",
    "            break\n",
    "        else:\n",
    "            print('Menu tidak tersedia!\\n')\n",
    "            \n",
    "if __name__ == '__main__':\n",
    "    main()\n",
    "             "
   ]
  }
 ],
 "metadata": {
  "kernelspec": {
   "display_name": "Python 3 (ipykernel)",
   "language": "python",
   "name": "python3"
  },
  "language_info": {
   "codemirror_mode": {
    "name": "ipython",
    "version": 3
   },
   "file_extension": ".py",
   "mimetype": "text/x-python",
   "name": "python",
   "nbconvert_exporter": "python",
   "pygments_lexer": "ipython3",
   "version": "3.9.12"
  }
 },
 "nbformat": 4,
 "nbformat_minor": 5
}
