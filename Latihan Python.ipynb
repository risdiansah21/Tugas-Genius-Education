{
 "cells": [
  {
   "cell_type": "code",
   "execution_count": 9,
   "id": "d5ec75e4",
   "metadata": {},
   "outputs": [
    {
     "name": "stdout",
     "output_type": "stream",
     "text": [
      "Perkenalkan nama saya Rikky, salam kenal\n"
     ]
    }
   ],
   "source": [
    "def sapaan(nama):\n",
    "    print(f'Perkenalkan nama saya {nama}, salam kenal')\n",
    "\n",
    "sapaan('Rikky')    "
   ]
  },
  {
   "cell_type": "code",
   "execution_count": 16,
   "id": "b75cde24",
   "metadata": {},
   "outputs": [
    {
     "name": "stdout",
     "output_type": "stream",
     "text": [
      "Luas segitiga adalah 17.5\n"
     ]
    }
   ],
   "source": [
    "def luas_segita(a,t):\n",
    "    luas = a * t / 2\n",
    "    print('Luas segitiga adalah', luas)\n",
    "    \n",
    "luas_segita(5,7)"
   ]
  },
  {
   "cell_type": "code",
   "execution_count": 20,
   "id": "1f449394",
   "metadata": {},
   "outputs": [],
   "source": [
    "import csv\n",
    "import pandas\n",
    "import numpy"
   ]
  },
  {
   "cell_type": "code",
   "execution_count": 21,
   "id": "64d3605c",
   "metadata": {},
   "outputs": [
    {
     "name": "stdout",
     "output_type": "stream",
     "text": [
      "Lingkaran dengan jari-jari 14 memiliki keliling 87.92\n"
     ]
    }
   ],
   "source": [
    "def keliling_lingkaran(radius):\n",
    "    keliling = 2 * 3.14 * radius\n",
    "    return keliling\n",
    "\n",
    "r = 14\n",
    "kel = keliling_lingkaran(r)\n",
    "print('Lingkaran dengan jari-jari {} memiliki keliling {}'.format(r,kel))"
   ]
  },
  {
   "cell_type": "code",
   "execution_count": 22,
   "id": "4207b010",
   "metadata": {},
   "outputs": [
    {
     "name": "stdout",
     "output_type": "stream",
     "text": [
      "masukkan nilai = 12\n",
      "hasilnya adalah 14\n"
     ]
    }
   ],
   "source": [
    "def ceknilai(nilai):\n",
    "    if nilai % 2 == 0:\n",
    "        nilai += 2\n",
    "    else:\n",
    "        nilai *= 2\n",
    "    return nilai\n",
    "\n",
    "angka = input('masukkan nilai = ')\n",
    "hasil = ceknilai(int(angka))\n",
    "\n",
    "print('hasilnya adalah {}'.format(hasil))"
   ]
  },
  {
   "cell_type": "code",
   "execution_count": null,
   "id": "d6916f04",
   "metadata": {},
   "outputs": [],
   "source": []
  }
 ],
 "metadata": {
  "kernelspec": {
   "display_name": "Python 3 (ipykernel)",
   "language": "python",
   "name": "python3"
  },
  "language_info": {
   "codemirror_mode": {
    "name": "ipython",
    "version": 3
   },
   "file_extension": ".py",
   "mimetype": "text/x-python",
   "name": "python",
   "nbconvert_exporter": "python",
   "pygments_lexer": "ipython3",
   "version": "3.9.12"
  }
 },
 "nbformat": 4,
 "nbformat_minor": 5
}
